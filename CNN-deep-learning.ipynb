{
 "cells": [
  {
   "cell_type": "markdown",
   "metadata": {},
   "source": [
    "# The Deep Learning Pipeline – Tensorflow\n",
    "\n",
    "### The seven step deep learning procedure:\n",
    "1.  Data Preprocessing\n",
    "2.  Model Creation – Keras Sequential\n",
    "3.  Model Compiling – Loss, Optimizer, Metric\n",
    "4.  Training Models and Cross-Validation\n",
    "5.  Model Evaluation\n",
    "6.  Making Predictions\n",
    "7.  Save and Export Model"
   ]
  },
  {
   "cell_type": "code",
   "execution_count": 1,
   "metadata": {},
   "outputs": [],
   "source": [
    "import warnings\n",
    "import numpy as np\n",
    "import pandas as pd\n",
    "import seaborn as sns\n",
    "import matplotlib.pyplot as plt\n",
    "warnings.filterwarnings(action=\"ignore\")\n",
    "%matplotlib inline"
   ]
  },
  {
   "cell_type": "code",
   "execution_count": 2,
   "metadata": {},
   "outputs": [
    {
     "name": "stdout",
     "output_type": "stream",
     "text": [
      "(1797, 64) (1797,)\n",
      "Target Names [0 1 2 3 4 5 6 7 8 9]\n"
     ]
    }
   ],
   "source": [
    "from sklearn.datasets import load_digits\n",
    "\n",
    "digits = load_digits()\n",
    "X = digits.data\n",
    "y = digits.target\n",
    "\n",
    "print(X.shape, y.shape)\n",
    "print(\"Target Names\", digits.target_names)"
   ]
  },
  {
   "cell_type": "code",
   "execution_count": 3,
   "metadata": {},
   "outputs": [
    {
     "data": {
      "image/png": "[encoded data removed]",
      "text/plain": [
       "<Figure size 1440x720 with 10 Axes>"
      ]
     },
     "metadata": {
      "needs_background": "light"
     },
     "output_type": "display_data"
    }
   ],
   "source": [
    "plt.figure(figsize=(20,10))\n",
    "plt.gray()\n",
    "\n",
    "for i in range(10):\n",
    "    plt.subplot(2,5, i+1)\n",
    "    plt.imshow(digits.images[i]) \n",
    "    \n",
    "plt.show()"
   ]
  },
  {
   "cell_type": "markdown",
   "metadata": {},
   "source": [
    "## Data Preprocessing"
   ]
  },
  {
   "cell_type": "code",
   "execution_count": 4,
   "metadata": {},
   "outputs": [],
   "source": [
    "from sklearn.utils import shuffle\n",
    "from sklearn.preprocessing import Normalizer\n",
    "from sklearn.model_selection import train_test_split"
   ]
  },
  {
   "cell_type": "code",
   "execution_count": 5,
   "metadata": {},
   "outputs": [
    {
     "name": "stdout",
     "output_type": "stream",
     "text": [
      "[ 0.  0.  5. 13.  9.  1.  0.  0.  0.  0. 13. 15. 10. 15.  5.  0.  0.  3.\n",
      " 15.  2.  0. 11.  8.  0.  0.  4. 12.  0.  0.  8.  8.  0.  0.  5.  8.  0.\n",
      "  0.  9.  8.  0.  0.  4. 11.  0.  1. 12.  7.  0.  0.  2. 14.  5. 10. 12.\n",
      "  0.  0.  0.  0.  6. 13. 10.  0.  0.  0.]\n"
     ]
    }
   ],
   "source": [
    "## visualizing the data – first instance\n",
    "print(X[0])"
   ]
  },
  {
   "cell_type": "code",
   "execution_count": 6,
   "metadata": {},
   "outputs": [
    {
     "name": "stdout",
     "output_type": "stream",
     "text": [
      "(1797, 64)\n"
     ]
    }
   ],
   "source": [
    "transformer = Normalizer()\n",
    "X = transformer.fit_transform(X)\n",
    "\n",
    "print(X.shape)"
   ]
  },
  {
   "cell_type": "code",
   "execution_count": 7,
   "metadata": {},
   "outputs": [
    {
     "name": "stdout",
     "output_type": "stream",
     "text": [
      "[0.         0.         0.09024036 0.23462493 0.16243265 0.01804807\n",
      " 0.         0.         0.         0.         0.23462493 0.27072108\n",
      " 0.18048072 0.27072108 0.09024036 0.         0.         0.05414422\n",
      " 0.27072108 0.03609614 0.         0.19852879 0.14438458 0.\n",
      " 0.         0.07219229 0.21657686 0.         0.         0.14438458\n",
      " 0.14438458 0.         0.         0.09024036 0.14438458 0.\n",
      " 0.         0.16243265 0.14438458 0.         0.         0.07219229\n",
      " 0.19852879 0.         0.01804807 0.21657686 0.1263365  0.\n",
      " 0.         0.03609614 0.25267301 0.09024036 0.18048072 0.21657686\n",
      " 0.         0.         0.         0.         0.10828843 0.23462493\n",
      " 0.18048072 0.         0.         0.        ]\n"
     ]
    }
   ],
   "source": [
    "## visualizing normalized data – first instance\n",
    "print(X[0])"
   ]
  },
  {
   "cell_type": "code",
   "execution_count": 77,
   "metadata": {},
   "outputs": [],
   "source": [
    "from sklearn.utils import shuffle\n",
    "X, y = shuffle(X, y, random_state=0)"
   ]
  },
  {
   "cell_type": "code",
   "execution_count": 8,
   "metadata": {},
   "outputs": [
    {
     "name": "stdout",
     "output_type": "stream",
     "text": [
      "(1437, 64) (360, 64) (1437,) (360,)\n"
     ]
    }
   ],
   "source": [
    "X_train, X_test, y_train, y_test = train_test_split(X, y, test_size=0.2, random_state=5)\n",
    "print(X_train.shape, X_test.shape, y_train.shape, y_test.shape)"
   ]
  },
  {
   "cell_type": "markdown",
   "metadata": {},
   "source": [
    "## Model Creation"
   ]
  },
  {
   "cell_type": "code",
   "execution_count": 9,
   "metadata": {},
   "outputs": [],
   "source": [
    "import tensorflow as tf\n",
    "from tensorflow import keras\n",
    "from tensorflow.keras.models import Sequential\n",
    "from tensorflow.keras.layers import Activation, Dense\n",
    "from tensorflow.keras.metrics import categorical_crossentropy\n",
    "from tensorflow.keras.optimizers import Adam, SGD"
   ]
  },
  {
   "cell_type": "code",
   "execution_count": 10,
   "metadata": {},
   "outputs": [],
   "source": [
    "model = Sequential([\n",
    "    Dense(units=10, input_shape=(64,), activation='relu'),\n",
    "    Dense(units=20, activation='relu'),\n",
    "    Dense(units=10, activation='softmax')\n",
    "])"
   ]
  },
  {
   "cell_type": "markdown",
   "metadata": {},
   "source": [
    "## Model Training"
   ]
  },
  {
   "cell_type": "code",
   "execution_count": 11,
   "metadata": {},
   "outputs": [],
   "source": [
    "model.compile(optimizer=SGD(learning_rate=0.01), loss='sparse_categorical_crossentropy', metrics=['accuracy'])"
   ]
  },
  {
   "cell_type": "code",
   "execution_count": 12,
   "metadata": {},
   "outputs": [
    {
     "name": "stdout",
     "output_type": "stream",
     "text": [
      "Epoch 1/100\n",
      "72/72 - 0s - loss: 2.3015 - accuracy: 0.1058\n",
      "Epoch 2/100\n",
      "72/72 - 0s - loss: 2.2948 - accuracy: 0.1148\n",
      "Epoch 3/100\n",
      "72/72 - 0s - loss: 2.2890 - accuracy: 0.1169\n",
      "Epoch 4/100\n",
      "72/72 - 0s - loss: 2.2817 - accuracy: 0.1190\n",
      "Epoch 5/100\n",
      "72/72 - 0s - loss: 2.2732 - accuracy: 0.1385\n",
      "Epoch 6/100\n",
      "72/72 - 0s - loss: 2.2656 - accuracy: 0.1601\n",
      "Epoch 7/100\n",
      "72/72 - 0s - loss: 2.2587 - accuracy: 0.1761\n",
      "Epoch 8/100\n",
      "72/72 - 0s - loss: 2.2518 - accuracy: 0.2129\n",
      "Epoch 9/100\n",
      "72/72 - 0s - loss: 2.2443 - accuracy: 0.2192\n",
      "Epoch 10/100\n",
      "72/72 - 0s - loss: 2.2357 - accuracy: 0.2470\n",
      "Epoch 11/100\n",
      "72/72 - 0s - loss: 2.2258 - accuracy: 0.2728\n",
      "Epoch 12/100\n",
      "72/72 - 0s - loss: 2.2140 - accuracy: 0.2853\n",
      "Epoch 13/100\n",
      "72/72 - 0s - loss: 2.2009 - accuracy: 0.2992\n",
      "Epoch 14/100\n",
      "72/72 - 0s - loss: 2.1873 - accuracy: 0.3097\n",
      "Epoch 15/100\n",
      "72/72 - 0s - loss: 2.1733 - accuracy: 0.3305\n",
      "Epoch 16/100\n",
      "72/72 - 0s - loss: 2.1581 - accuracy: 0.3403\n",
      "Epoch 17/100\n",
      "72/72 - 0s - loss: 2.1420 - accuracy: 0.3577\n",
      "Epoch 18/100\n",
      "72/72 - 0s - loss: 2.1247 - accuracy: 0.3660\n",
      "Epoch 19/100\n",
      "72/72 - 0s - loss: 2.1060 - accuracy: 0.3807\n",
      "Epoch 20/100\n",
      "72/72 - 0s - loss: 2.0861 - accuracy: 0.3946\n",
      "Epoch 21/100\n",
      "72/72 - 0s - loss: 2.0650 - accuracy: 0.3932\n",
      "Epoch 22/100\n",
      "72/72 - 0s - loss: 2.0422 - accuracy: 0.4036\n",
      "Epoch 23/100\n",
      "72/72 - 0s - loss: 2.0182 - accuracy: 0.4113\n",
      "Epoch 24/100\n",
      "72/72 - 0s - loss: 1.9927 - accuracy: 0.4161\n",
      "Epoch 25/100\n",
      "72/72 - 0s - loss: 1.9665 - accuracy: 0.4203\n",
      "Epoch 26/100\n",
      "72/72 - 0s - loss: 1.9382 - accuracy: 0.4273\n",
      "Epoch 27/100\n",
      "72/72 - 0s - loss: 1.9092 - accuracy: 0.4322\n",
      "Epoch 28/100\n",
      "72/72 - 0s - loss: 1.8786 - accuracy: 0.4440\n",
      "Epoch 29/100\n",
      "72/72 - 0s - loss: 1.8464 - accuracy: 0.4558\n",
      "Epoch 30/100\n",
      "72/72 - 0s - loss: 1.8132 - accuracy: 0.4614\n",
      "Epoch 31/100\n",
      "72/72 - 0s - loss: 1.7790 - accuracy: 0.4649\n",
      "Epoch 32/100\n",
      "72/72 - 0s - loss: 1.7436 - accuracy: 0.4816\n",
      "Epoch 33/100\n",
      "72/72 - 0s - loss: 1.7078 - accuracy: 0.4934\n",
      "Epoch 34/100\n",
      "72/72 - 0s - loss: 1.6714 - accuracy: 0.5205\n",
      "Epoch 35/100\n",
      "72/72 - 0s - loss: 1.6348 - accuracy: 0.5379\n",
      "Epoch 36/100\n",
      "72/72 - 0s - loss: 1.5981 - accuracy: 0.5484\n",
      "Epoch 37/100\n",
      "72/72 - 0s - loss: 1.5610 - accuracy: 0.5616\n",
      "Epoch 38/100\n",
      "72/72 - 0s - loss: 1.5243 - accuracy: 0.5727\n",
      "Epoch 39/100\n",
      "72/72 - 0s - loss: 1.4882 - accuracy: 0.5866\n",
      "Epoch 40/100\n",
      "72/72 - 0s - loss: 1.4516 - accuracy: 0.5957\n",
      "Epoch 41/100\n",
      "72/72 - 0s - loss: 1.4160 - accuracy: 0.6082\n",
      "Epoch 42/100\n",
      "72/72 - 0s - loss: 1.3800 - accuracy: 0.6214\n",
      "Epoch 43/100\n",
      "72/72 - 0s - loss: 1.3454 - accuracy: 0.6256\n",
      "Epoch 44/100\n",
      "72/72 - 0s - loss: 1.3106 - accuracy: 0.6534\n",
      "Epoch 45/100\n",
      "72/72 - 0s - loss: 1.2767 - accuracy: 0.6646\n",
      "Epoch 46/100\n",
      "72/72 - 0s - loss: 1.2432 - accuracy: 0.6743\n",
      "Epoch 47/100\n",
      "72/72 - 0s - loss: 1.2104 - accuracy: 0.6868\n",
      "Epoch 48/100\n",
      "72/72 - 0s - loss: 1.1783 - accuracy: 0.7035\n",
      "Epoch 49/100\n",
      "72/72 - 0s - loss: 1.1463 - accuracy: 0.7070\n",
      "Epoch 50/100\n",
      "72/72 - 0s - loss: 1.1155 - accuracy: 0.7091\n",
      "Epoch 51/100\n",
      "72/72 - 0s - loss: 1.0847 - accuracy: 0.7300\n",
      "Epoch 52/100\n",
      "72/72 - 0s - loss: 1.0559 - accuracy: 0.7390\n",
      "Epoch 53/100\n",
      "72/72 - 0s - loss: 1.0266 - accuracy: 0.7516\n",
      "Epoch 54/100\n",
      "72/72 - 0s - loss: 0.9986 - accuracy: 0.7578\n",
      "Epoch 55/100\n",
      "72/72 - 0s - loss: 0.9715 - accuracy: 0.7704\n",
      "Epoch 56/100\n",
      "72/72 - 0s - loss: 0.9448 - accuracy: 0.7669\n",
      "Epoch 57/100\n",
      "72/72 - 0s - loss: 0.9189 - accuracy: 0.7801\n",
      "Epoch 58/100\n",
      "72/72 - 0s - loss: 0.8937 - accuracy: 0.7871\n",
      "Epoch 59/100\n",
      "72/72 - 0s - loss: 0.8688 - accuracy: 0.7871\n",
      "Epoch 60/100\n",
      "72/72 - 0s - loss: 0.8455 - accuracy: 0.7947\n",
      "Epoch 61/100\n",
      "72/72 - 0s - loss: 0.8227 - accuracy: 0.8038\n",
      "Epoch 62/100\n",
      "72/72 - 0s - loss: 0.8009 - accuracy: 0.7975\n",
      "Epoch 63/100\n",
      "72/72 - 0s - loss: 0.7785 - accuracy: 0.8079\n",
      "Epoch 64/100\n",
      "72/72 - 0s - loss: 0.7576 - accuracy: 0.8135\n",
      "Epoch 65/100\n",
      "72/72 - 0s - loss: 0.7378 - accuracy: 0.8163\n",
      "Epoch 66/100\n",
      "72/72 - 0s - loss: 0.7184 - accuracy: 0.8142\n",
      "Epoch 67/100\n",
      "72/72 - 0s - loss: 0.6986 - accuracy: 0.8246\n",
      "Epoch 68/100\n",
      "72/72 - 0s - loss: 0.6807 - accuracy: 0.8274\n",
      "Epoch 69/100\n",
      "72/72 - 0s - loss: 0.6633 - accuracy: 0.8386\n",
      "Epoch 70/100\n",
      "72/72 - 0s - loss: 0.6462 - accuracy: 0.8399\n",
      "Epoch 71/100\n",
      "72/72 - 0s - loss: 0.6302 - accuracy: 0.8462\n",
      "Epoch 72/100\n",
      "72/72 - 0s - loss: 0.6133 - accuracy: 0.8539\n",
      "Epoch 73/100\n",
      "72/72 - 0s - loss: 0.5986 - accuracy: 0.8476\n",
      "Epoch 74/100\n",
      "72/72 - 0s - loss: 0.5842 - accuracy: 0.8566\n",
      "Epoch 75/100\n",
      "72/72 - 0s - loss: 0.5697 - accuracy: 0.8636\n",
      "Epoch 76/100\n",
      "72/72 - 0s - loss: 0.5564 - accuracy: 0.8608\n",
      "Epoch 77/100\n",
      "72/72 - 0s - loss: 0.5430 - accuracy: 0.8615\n",
      "Epoch 78/100\n",
      "72/72 - 0s - loss: 0.5297 - accuracy: 0.8699\n",
      "Epoch 79/100\n",
      "72/72 - 0s - loss: 0.5174 - accuracy: 0.8727\n",
      "Epoch 80/100\n",
      "72/72 - 0s - loss: 0.5050 - accuracy: 0.8685\n",
      "Epoch 81/100\n",
      "72/72 - 0s - loss: 0.4959 - accuracy: 0.8713\n",
      "Epoch 82/100\n",
      "72/72 - 0s - loss: 0.4839 - accuracy: 0.8747\n",
      "Epoch 83/100\n",
      "72/72 - 0s - loss: 0.4733 - accuracy: 0.8720\n",
      "Epoch 84/100\n",
      "72/72 - 0s - loss: 0.4633 - accuracy: 0.8754\n",
      "Epoch 85/100\n",
      "72/72 - 0s - loss: 0.4558 - accuracy: 0.8817\n",
      "Epoch 86/100\n",
      "72/72 - 0s - loss: 0.4463 - accuracy: 0.8817\n",
      "Epoch 87/100\n",
      "72/72 - 0s - loss: 0.4377 - accuracy: 0.8817\n",
      "Epoch 88/100\n",
      "72/72 - 0s - loss: 0.4286 - accuracy: 0.8817\n",
      "Epoch 89/100\n",
      "72/72 - 0s - loss: 0.4210 - accuracy: 0.8866\n",
      "Epoch 90/100\n",
      "72/72 - 0s - loss: 0.4132 - accuracy: 0.8838\n",
      "Epoch 91/100\n",
      "72/72 - 0s - loss: 0.4062 - accuracy: 0.8887\n",
      "Epoch 92/100\n",
      "72/72 - 0s - loss: 0.3986 - accuracy: 0.8900\n",
      "Epoch 93/100\n",
      "72/72 - 0s - loss: 0.3919 - accuracy: 0.8921\n",
      "Epoch 94/100\n",
      "72/72 - 0s - loss: 0.3852 - accuracy: 0.8928\n",
      "Epoch 95/100\n",
      "72/72 - 0s - loss: 0.3795 - accuracy: 0.8949\n",
      "Epoch 96/100\n",
      "72/72 - 0s - loss: 0.3738 - accuracy: 0.8956\n",
      "Epoch 97/100\n",
      "72/72 - 0s - loss: 0.3677 - accuracy: 0.8956\n",
      "Epoch 98/100\n",
      "72/72 - 0s - loss: 0.3610 - accuracy: 0.9012\n",
      "Epoch 99/100\n",
      "72/72 - 0s - loss: 0.3555 - accuracy: 0.9019\n",
      "Epoch 100/100\n",
      "72/72 - 0s - loss: 0.3509 - accuracy: 0.9019\n"
     ]
    },
    {
     "data": {
      "text/plain": [
       "<tensorflow.python.keras.callbacks.History at 0x14510fd10>"
      ]
     },
     "execution_count": 12,
     "metadata": {},
     "output_type": "execute_result"
    }
   ],
   "source": [
    "model.fit(x=X_train, y=y_train, batch_size=20, epochs=100, verbose=2)"
   ]
  },
  {
   "cell_type": "code",
   "execution_count": 13,
   "metadata": {},
   "outputs": [
    {
     "name": "stdout",
     "output_type": "stream",
     "text": [
      "Epoch 1/100\n",
      "81/81 - 0s - loss: 0.3425 - accuracy: 0.9041 - val_loss: 0.3793 - val_accuracy: 0.9056\n",
      "Epoch 2/100\n",
      "81/81 - 0s - loss: 0.3374 - accuracy: 0.9079 - val_loss: 0.3699 - val_accuracy: 0.9167\n",
      "Epoch 3/100\n",
      "81/81 - 0s - loss: 0.3312 - accuracy: 0.9029 - val_loss: 0.3731 - val_accuracy: 0.9000\n",
      "Epoch 4/100\n",
      "81/81 - 0s - loss: 0.3261 - accuracy: 0.9072 - val_loss: 0.3614 - val_accuracy: 0.9167\n",
      "Epoch 5/100\n",
      "81/81 - 0s - loss: 0.3208 - accuracy: 0.9085 - val_loss: 0.3781 - val_accuracy: 0.9056\n",
      "Epoch 6/100\n",
      "81/81 - 0s - loss: 0.3160 - accuracy: 0.9103 - val_loss: 0.3603 - val_accuracy: 0.9056\n",
      "Epoch 7/100\n",
      "81/81 - 0s - loss: 0.3110 - accuracy: 0.9109 - val_loss: 0.3585 - val_accuracy: 0.9056\n",
      "Epoch 8/100\n",
      "81/81 - 0s - loss: 0.3058 - accuracy: 0.9147 - val_loss: 0.3552 - val_accuracy: 0.9056\n",
      "Epoch 9/100\n",
      "81/81 - 0s - loss: 0.3017 - accuracy: 0.9147 - val_loss: 0.3585 - val_accuracy: 0.9111\n",
      "Epoch 10/100\n",
      "81/81 - 0s - loss: 0.2978 - accuracy: 0.9215 - val_loss: 0.3510 - val_accuracy: 0.9056\n",
      "Epoch 11/100\n",
      "81/81 - 0s - loss: 0.2939 - accuracy: 0.9196 - val_loss: 0.3493 - val_accuracy: 0.9111\n",
      "Epoch 12/100\n",
      "81/81 - 0s - loss: 0.2897 - accuracy: 0.9190 - val_loss: 0.3540 - val_accuracy: 0.9056\n",
      "Epoch 13/100\n",
      "81/81 - 0s - loss: 0.2857 - accuracy: 0.9202 - val_loss: 0.3502 - val_accuracy: 0.9000\n",
      "Epoch 14/100\n",
      "81/81 - 0s - loss: 0.2819 - accuracy: 0.9215 - val_loss: 0.3517 - val_accuracy: 0.9000\n",
      "Epoch 15/100\n",
      "81/81 - 0s - loss: 0.2784 - accuracy: 0.9252 - val_loss: 0.3469 - val_accuracy: 0.9111\n",
      "Epoch 16/100\n",
      "81/81 - 0s - loss: 0.2753 - accuracy: 0.9208 - val_loss: 0.3433 - val_accuracy: 0.9167\n",
      "Epoch 17/100\n",
      "81/81 - 0s - loss: 0.2710 - accuracy: 0.9227 - val_loss: 0.3466 - val_accuracy: 0.9111\n",
      "Epoch 18/100\n",
      "81/81 - 0s - loss: 0.2680 - accuracy: 0.9264 - val_loss: 0.3448 - val_accuracy: 0.9167\n",
      "Epoch 19/100\n",
      "81/81 - 0s - loss: 0.2652 - accuracy: 0.9270 - val_loss: 0.3417 - val_accuracy: 0.9167\n",
      "Epoch 20/100\n",
      "81/81 - 0s - loss: 0.2615 - accuracy: 0.9258 - val_loss: 0.3399 - val_accuracy: 0.9167\n",
      "Epoch 21/100\n",
      "81/81 - 0s - loss: 0.2592 - accuracy: 0.9264 - val_loss: 0.3388 - val_accuracy: 0.9111\n",
      "Epoch 22/100\n",
      "81/81 - 0s - loss: 0.2565 - accuracy: 0.9276 - val_loss: 0.3403 - val_accuracy: 0.9167\n",
      "Epoch 23/100\n",
      "81/81 - 0s - loss: 0.2523 - accuracy: 0.9332 - val_loss: 0.3284 - val_accuracy: 0.9167\n",
      "Epoch 24/100\n",
      "81/81 - 0s - loss: 0.2509 - accuracy: 0.9276 - val_loss: 0.3393 - val_accuracy: 0.9056\n",
      "Epoch 25/100\n",
      "81/81 - 0s - loss: 0.2486 - accuracy: 0.9258 - val_loss: 0.3314 - val_accuracy: 0.9222\n",
      "Epoch 26/100\n",
      "81/81 - 0s - loss: 0.2445 - accuracy: 0.9326 - val_loss: 0.3320 - val_accuracy: 0.9278\n",
      "Epoch 27/100\n",
      "81/81 - 0s - loss: 0.2428 - accuracy: 0.9314 - val_loss: 0.3219 - val_accuracy: 0.9167\n",
      "Epoch 28/100\n",
      "81/81 - 0s - loss: 0.2400 - accuracy: 0.9338 - val_loss: 0.3233 - val_accuracy: 0.9167\n",
      "Epoch 29/100\n",
      "81/81 - 0s - loss: 0.2376 - accuracy: 0.9332 - val_loss: 0.3266 - val_accuracy: 0.9278\n",
      "Epoch 30/100\n",
      "81/81 - 0s - loss: 0.2351 - accuracy: 0.9363 - val_loss: 0.3241 - val_accuracy: 0.9167\n",
      "Epoch 31/100\n",
      "81/81 - 0s - loss: 0.2326 - accuracy: 0.9338 - val_loss: 0.3254 - val_accuracy: 0.9222\n",
      "Epoch 32/100\n",
      "81/81 - 0s - loss: 0.2307 - accuracy: 0.9363 - val_loss: 0.3320 - val_accuracy: 0.9167\n",
      "Epoch 33/100\n",
      "81/81 - 0s - loss: 0.2285 - accuracy: 0.9344 - val_loss: 0.3174 - val_accuracy: 0.9222\n",
      "Epoch 34/100\n",
      "81/81 - 0s - loss: 0.2258 - accuracy: 0.9351 - val_loss: 0.3207 - val_accuracy: 0.9167\n",
      "Epoch 35/100\n",
      "81/81 - 0s - loss: 0.2236 - accuracy: 0.9375 - val_loss: 0.3239 - val_accuracy: 0.9222\n",
      "Epoch 36/100\n",
      "81/81 - 0s - loss: 0.2211 - accuracy: 0.9412 - val_loss: 0.3227 - val_accuracy: 0.9278\n",
      "Epoch 37/100\n",
      "81/81 - 0s - loss: 0.2193 - accuracy: 0.9394 - val_loss: 0.3144 - val_accuracy: 0.9167\n",
      "Epoch 38/100\n",
      "81/81 - 0s - loss: 0.2177 - accuracy: 0.9400 - val_loss: 0.3114 - val_accuracy: 0.9222\n",
      "Epoch 39/100\n",
      "81/81 - 0s - loss: 0.2150 - accuracy: 0.9419 - val_loss: 0.3076 - val_accuracy: 0.9222\n",
      "Epoch 40/100\n",
      "81/81 - 0s - loss: 0.2142 - accuracy: 0.9394 - val_loss: 0.3132 - val_accuracy: 0.9222\n",
      "Epoch 41/100\n",
      "81/81 - 0s - loss: 0.2109 - accuracy: 0.9419 - val_loss: 0.3032 - val_accuracy: 0.9278\n",
      "Epoch 42/100\n",
      "81/81 - 0s - loss: 0.2093 - accuracy: 0.9406 - val_loss: 0.3164 - val_accuracy: 0.9333\n",
      "Epoch 43/100\n",
      "81/81 - 0s - loss: 0.2086 - accuracy: 0.9400 - val_loss: 0.3063 - val_accuracy: 0.9222\n",
      "Epoch 44/100\n",
      "81/81 - 0s - loss: 0.2065 - accuracy: 0.9400 - val_loss: 0.2979 - val_accuracy: 0.9278\n",
      "Epoch 45/100\n",
      "81/81 - 0s - loss: 0.2043 - accuracy: 0.9443 - val_loss: 0.3104 - val_accuracy: 0.9222\n",
      "Epoch 46/100\n",
      "81/81 - 0s - loss: 0.2028 - accuracy: 0.9431 - val_loss: 0.3189 - val_accuracy: 0.9278\n",
      "Epoch 47/100\n",
      "81/81 - 0s - loss: 0.2020 - accuracy: 0.9431 - val_loss: 0.3039 - val_accuracy: 0.9278\n",
      "Epoch 48/100\n",
      "81/81 - 0s - loss: 0.1997 - accuracy: 0.9425 - val_loss: 0.3053 - val_accuracy: 0.9333\n",
      "Epoch 49/100\n",
      "81/81 - 0s - loss: 0.1981 - accuracy: 0.9443 - val_loss: 0.2915 - val_accuracy: 0.9278\n",
      "Epoch 50/100\n",
      "81/81 - 0s - loss: 0.1969 - accuracy: 0.9456 - val_loss: 0.2960 - val_accuracy: 0.9278\n",
      "Epoch 51/100\n",
      "81/81 - 0s - loss: 0.1954 - accuracy: 0.9450 - val_loss: 0.3006 - val_accuracy: 0.9278\n",
      "Epoch 52/100\n",
      "81/81 - 0s - loss: 0.1936 - accuracy: 0.9481 - val_loss: 0.3049 - val_accuracy: 0.9222\n",
      "Epoch 53/100\n",
      "81/81 - 0s - loss: 0.1917 - accuracy: 0.9443 - val_loss: 0.3043 - val_accuracy: 0.9167\n",
      "Epoch 54/100\n",
      "81/81 - 0s - loss: 0.1900 - accuracy: 0.9487 - val_loss: 0.3014 - val_accuracy: 0.9278\n",
      "Epoch 55/100\n",
      "81/81 - 0s - loss: 0.1898 - accuracy: 0.9456 - val_loss: 0.3046 - val_accuracy: 0.9333\n",
      "Epoch 56/100\n",
      "81/81 - 0s - loss: 0.1871 - accuracy: 0.9474 - val_loss: 0.2949 - val_accuracy: 0.9333\n",
      "Epoch 57/100\n",
      "81/81 - 0s - loss: 0.1861 - accuracy: 0.9474 - val_loss: 0.2992 - val_accuracy: 0.9278\n",
      "Epoch 58/100\n",
      "81/81 - 0s - loss: 0.1855 - accuracy: 0.9499 - val_loss: 0.3002 - val_accuracy: 0.9278\n",
      "Epoch 59/100\n",
      "81/81 - 0s - loss: 0.1836 - accuracy: 0.9481 - val_loss: 0.3064 - val_accuracy: 0.9278\n",
      "Epoch 60/100\n",
      "81/81 - 0s - loss: 0.1822 - accuracy: 0.9499 - val_loss: 0.2950 - val_accuracy: 0.9167\n",
      "Epoch 61/100\n",
      "81/81 - 0s - loss: 0.1805 - accuracy: 0.9518 - val_loss: 0.3052 - val_accuracy: 0.9111\n",
      "Epoch 62/100\n",
      "81/81 - 0s - loss: 0.1800 - accuracy: 0.9505 - val_loss: 0.2937 - val_accuracy: 0.9278\n",
      "Epoch 63/100\n",
      "81/81 - 0s - loss: 0.1758 - accuracy: 0.9524 - val_loss: 0.3247 - val_accuracy: 0.9167\n",
      "Epoch 64/100\n",
      "81/81 - 0s - loss: 0.1776 - accuracy: 0.9524 - val_loss: 0.2981 - val_accuracy: 0.9333\n",
      "Epoch 65/100\n",
      "81/81 - 0s - loss: 0.1758 - accuracy: 0.9518 - val_loss: 0.2980 - val_accuracy: 0.9278\n",
      "Epoch 66/100\n",
      "81/81 - 0s - loss: 0.1747 - accuracy: 0.9511 - val_loss: 0.2976 - val_accuracy: 0.9278\n",
      "Epoch 67/100\n",
      "81/81 - 0s - loss: 0.1736 - accuracy: 0.9524 - val_loss: 0.2892 - val_accuracy: 0.9333\n",
      "Epoch 68/100\n",
      "81/81 - 0s - loss: 0.1718 - accuracy: 0.9518 - val_loss: 0.2890 - val_accuracy: 0.9278\n",
      "Epoch 69/100\n",
      "81/81 - 0s - loss: 0.1708 - accuracy: 0.9549 - val_loss: 0.3038 - val_accuracy: 0.9278\n",
      "Epoch 70/100\n",
      "81/81 - 0s - loss: 0.1701 - accuracy: 0.9518 - val_loss: 0.2931 - val_accuracy: 0.9333\n",
      "Epoch 71/100\n",
      "81/81 - 0s - loss: 0.1687 - accuracy: 0.9542 - val_loss: 0.2931 - val_accuracy: 0.9278\n",
      "Epoch 72/100\n",
      "81/81 - 0s - loss: 0.1670 - accuracy: 0.9536 - val_loss: 0.2938 - val_accuracy: 0.9278\n",
      "Epoch 73/100\n",
      "81/81 - 0s - loss: 0.1658 - accuracy: 0.9567 - val_loss: 0.2924 - val_accuracy: 0.9278\n",
      "Epoch 74/100\n",
      "81/81 - 0s - loss: 0.1658 - accuracy: 0.9536 - val_loss: 0.2883 - val_accuracy: 0.9333\n",
      "Epoch 75/100\n",
      "81/81 - 0s - loss: 0.1639 - accuracy: 0.9549 - val_loss: 0.2994 - val_accuracy: 0.9333\n",
      "Epoch 76/100\n",
      "81/81 - 0s - loss: 0.1634 - accuracy: 0.9561 - val_loss: 0.2860 - val_accuracy: 0.9333\n",
      "Epoch 77/100\n",
      "81/81 - 0s - loss: 0.1624 - accuracy: 0.9561 - val_loss: 0.2857 - val_accuracy: 0.9278\n",
      "Epoch 78/100\n",
      "81/81 - 0s - loss: 0.1615 - accuracy: 0.9573 - val_loss: 0.2861 - val_accuracy: 0.9333\n",
      "Epoch 79/100\n",
      "81/81 - 0s - loss: 0.1598 - accuracy: 0.9573 - val_loss: 0.2893 - val_accuracy: 0.9278\n",
      "Epoch 80/100\n",
      "81/81 - 0s - loss: 0.1589 - accuracy: 0.9592 - val_loss: 0.2892 - val_accuracy: 0.9222\n",
      "Epoch 81/100\n",
      "81/81 - 0s - loss: 0.1575 - accuracy: 0.9586 - val_loss: 0.2826 - val_accuracy: 0.9333\n",
      "Epoch 82/100\n",
      "81/81 - 0s - loss: 0.1569 - accuracy: 0.9549 - val_loss: 0.2914 - val_accuracy: 0.9278\n",
      "Epoch 83/100\n",
      "81/81 - 0s - loss: 0.1562 - accuracy: 0.9592 - val_loss: 0.2817 - val_accuracy: 0.9278\n",
      "Epoch 84/100\n",
      "81/81 - 0s - loss: 0.1549 - accuracy: 0.9586 - val_loss: 0.2823 - val_accuracy: 0.9278\n",
      "Epoch 85/100\n",
      "81/81 - 0s - loss: 0.1543 - accuracy: 0.9573 - val_loss: 0.2821 - val_accuracy: 0.9278\n",
      "Epoch 86/100\n",
      "81/81 - 0s - loss: 0.1533 - accuracy: 0.9610 - val_loss: 0.2870 - val_accuracy: 0.9278\n",
      "Epoch 87/100\n",
      "81/81 - 0s - loss: 0.1527 - accuracy: 0.9579 - val_loss: 0.2843 - val_accuracy: 0.9278\n",
      "Epoch 88/100\n",
      "81/81 - 0s - loss: 0.1513 - accuracy: 0.9579 - val_loss: 0.2880 - val_accuracy: 0.9333\n",
      "Epoch 89/100\n",
      "81/81 - 0s - loss: 0.1502 - accuracy: 0.9610 - val_loss: 0.2822 - val_accuracy: 0.9333\n",
      "Epoch 90/100\n",
      "81/81 - 0s - loss: 0.1497 - accuracy: 0.9623 - val_loss: 0.2968 - val_accuracy: 0.9278\n",
      "Epoch 91/100\n",
      "81/81 - 0s - loss: 0.1489 - accuracy: 0.9604 - val_loss: 0.2891 - val_accuracy: 0.9278\n",
      "Epoch 92/100\n",
      "81/81 - 0s - loss: 0.1478 - accuracy: 0.9586 - val_loss: 0.2840 - val_accuracy: 0.9278\n",
      "Epoch 93/100\n",
      "81/81 - 0s - loss: 0.1469 - accuracy: 0.9641 - val_loss: 0.2839 - val_accuracy: 0.9333\n",
      "Epoch 94/100\n",
      "81/81 - 0s - loss: 0.1464 - accuracy: 0.9623 - val_loss: 0.2967 - val_accuracy: 0.9222\n",
      "Epoch 95/100\n",
      "81/81 - 0s - loss: 0.1450 - accuracy: 0.9623 - val_loss: 0.2897 - val_accuracy: 0.9278\n",
      "Epoch 96/100\n",
      "81/81 - 0s - loss: 0.1447 - accuracy: 0.9629 - val_loss: 0.2868 - val_accuracy: 0.9278\n",
      "Epoch 97/100\n",
      "81/81 - 0s - loss: 0.1438 - accuracy: 0.9617 - val_loss: 0.2783 - val_accuracy: 0.9278\n",
      "Epoch 98/100\n",
      "81/81 - 0s - loss: 0.1429 - accuracy: 0.9592 - val_loss: 0.2801 - val_accuracy: 0.9333\n",
      "Epoch 99/100\n",
      "81/81 - 0s - loss: 0.1419 - accuracy: 0.9629 - val_loss: 0.2718 - val_accuracy: 0.9389\n",
      "Epoch 100/100\n",
      "81/81 - 0s - loss: 0.1417 - accuracy: 0.9623 - val_loss: 0.2862 - val_accuracy: 0.9278\n"
     ]
    },
    {
     "data": {
      "text/plain": [
       "<tensorflow.python.keras.callbacks.History at 0x14584ce10>"
      ]
     },
     "execution_count": 13,
     "metadata": {},
     "output_type": "execute_result"
    }
   ],
   "source": [
    "model.fit(x=X, y=y, validation_split=0.1, batch_size=20, epochs=100, verbose=2)"
   ]
  },
  {
   "cell_type": "code",
   "execution_count": 14,
   "metadata": {},
   "outputs": [
    {
     "name": "stdout",
     "output_type": "stream",
     "text": [
      "12/12 [==============================] - 0s 2ms/step - loss: 0.1601 - accuracy: 0.9472\n"
     ]
    },
    {
     "data": {
      "text/plain": [
       "[0.16012658178806305, 0.9472222328186035]"
      ]
     },
     "execution_count": 14,
     "metadata": {},
     "output_type": "execute_result"
    }
   ],
   "source": [
    "model.evaluate(X_test, y_test)"
   ]
  },
  {
   "cell_type": "code",
   "execution_count": 15,
   "metadata": {},
   "outputs": [
    {
     "name": "stdout",
     "output_type": "stream",
     "text": [
      "[8.1340293e-04 2.8983638e-06 2.0953603e-06 4.3206401e-07 1.1267049e-06\n",
      " 9.9847871e-01 4.9805371e-06 2.0464524e-04 4.7536747e-04 1.6377686e-05]\n",
      "[5 2 5 5 5 3 2 2 3 5 9 8 7 2 1 1 5 7 0 4 5 9 0 2 1 3 4 7 5 2 1 1 2 9 8 1 4\n",
      " 9 7 9 5 5 6 0 1 7 2 9 7 7 3 9 5 6 6 6 7 7 8 1 6 1 3 6 1 3 2 6 8 1 4 7 1 6\n",
      " 0 0 5 1 2 8 1 6 4 0 4 7 5 7 8 3 7 8 5 1 1 7 5 9 7 9 3 0 7 8 7 4 8 3 2 8 5\n",
      " 2 7 4 4 8 9 7 4 5 0 5 9 8 2 3 2 4 4 8 0 5 2 9 4 8 6 5 9 9 8 0 9 4 3 8 7 5\n",
      " 5 3 5 5 4 0 8 7 2 8 4 1 0 0 3 6 4 7 7 5 4 9 2 8 7 9 7 2 0 3 3 8 5 7 5 6 8\n",
      " 4 1 5 1 1 6 9 9 7 8 6 4 6 0 1 6 5 3 9 0 2 7 8 1 7 3 8 3 9 3 6 9 6 0 4 0 3\n",
      " 5 0 4 3 5 8 8 9 2 5 0 8 3 7 4 3 7 9 2 6 1 2 1 7 0 7 5 0 6 4 1 8 3 0 8 9 2\n",
      " 2 5 2 6 6 3 4 0 7 1 5 5 8 7 3 4 2 5 1 3 0 0 9 3 8 8 3 5 8 6 2 2 6 7 5 3 1\n",
      " 5 7 5 4 5 2 6 2 0 6 0 4 2 5 8 8 7 1 4 7 2 0 0 3 7 4 2 5 2 6 9 0 5 7 2 9 1\n",
      " 6 9 6 5 4 8 8 4 9 3 5 7 1 2 4 1 6 6 2 1 5 8 0 3 2 4 5]\n"
     ]
    }
   ],
   "source": [
    "predictions = model.predict(x=X_test, batch_size=10, verbose=0)\n",
    "\n",
    "print(predictions[0])\n",
    "print(predictions.argmax(axis=1))"
   ]
  },
  {
   "cell_type": "code",
   "execution_count": 17,
   "metadata": {},
   "outputs": [],
   "source": [
    "#saving a tensorflow model\n",
    "model.save(\"load-digits.h5\")"
   ]
  },
  {
   "cell_type": "code",
   "execution_count": 19,
   "metadata": {},
   "outputs": [],
   "source": [
    "from tensorflow.keras.models import load_model\n",
    "\n",
    "#importing a saved tensorflow model\n",
    "digits_model = load_model('load-digits.h5')"
   ]
  },
  {
   "cell_type": "code",
   "execution_count": 20,
   "metadata": {},
   "outputs": [
    {
     "name": "stdout",
     "output_type": "stream",
     "text": [
      "[5 2 5 5 5 3 2 2 3 5 9 8 7 2 1 1 5 7 0 4 5 9 0 2 1 3 4 7 5 2 1 1 2 9 8 1 4\n",
      " 9 7 9 5 5 6 0 1 7 2 9 7 7 3 9 5 6 6 6 7 7 8 1 6 1 3 6 1 3 2 6 8 1 4 7 1 6\n",
      " 0 0 5 1 2 8 1 6 4 0 4 7 5 7 8 3 7 8 5 1 1 7 5 9 7 9 3 0 7 8 7 4 8 3 2 8 5\n",
      " 2 7 4 4 8 9 7 4 5 0 5 9 8 2 3 2 4 4 8 0 5 2 9 4 8 6 5 9 9 8 0 9 4 3 8 7 5\n",
      " 5 3 5 5 4 0 8 7 2 8 4 1 0 0 3 6 4 7 7 5 4 9 2 8 7 9 7 2 0 3 3 8 5 7 5 6 8\n",
      " 4 1 5 1 1 6 9 9 7 8 6 4 6 0 1 6 5 3 9 0 2 7 8 1 7 3 8 3 9 3 6 9 6 0 4 0 3\n",
      " 5 0 4 3 5 8 8 9 2 5 0 8 3 7 4 3 7 9 2 6 1 2 1 7 0 7 5 0 6 4 1 8 3 0 8 9 2\n",
      " 2 5 2 6 6 3 4 0 7 1 5 5 8 7 3 4 2 5 1 3 0 0 9 3 8 8 3 5 8 6 2 2 6 7 5 3 1\n",
      " 5 7 5 4 5 2 6 2 0 6 0 4 2 5 8 8 7 1 4 7 2 0 0 3 7 4 2 5 2 6 9 0 5 7 2 9 1\n",
      " 6 9 6 5 4 8 8 4 9 3 5 7 1 2 4 1 6 6 2 1 5 8 0 3 2 4 5]\n"
     ]
    }
   ],
   "source": [
    "#using imported model to make predictions\n",
    "predictions = digits_model.predict(x=X_test, batch_size=10, verbose=0)\n",
    "print(predictions.argmax(axis=1))"
   ]
  },
  {
   "cell_type": "code",
   "execution_count": null,
   "metadata": {},
   "outputs": [],
   "source": []
  }
 ],
 "metadata": {
  "kernelspec": {
   "display_name": "Python 3",
   "language": "python",
   "name": "python3"
  },
  "language_info": {
   "codemirror_mode": {
    "name": "ipython",
    "version": 3
   },
   "file_extension": ".py",
   "mimetype": "text/x-python",
   "name": "python",
   "nbconvert_exporter": "python",
   "pygments_lexer": "ipython3",
   "version": "3.7.4"
  }
 },
 "nbformat": 4,
 "nbformat_minor": 4
}
